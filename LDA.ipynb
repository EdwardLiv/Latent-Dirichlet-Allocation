{
 "cells": [
  {
   "cell_type": "markdown",
   "metadata": {},
   "source": [
    "# Toader Liviu Eduard - Group 407"
   ]
  },
  {
   "cell_type": "markdown",
   "metadata": {},
   "source": [
    "Import packages for reading files."
   ]
  },
  {
   "cell_type": "code",
   "execution_count": 1,
   "metadata": {},
   "outputs": [],
   "source": [
    "import glob\n",
    "import os"
   ]
  },
  {
   "cell_type": "markdown",
   "metadata": {},
   "source": [
    "Import NLTK for text preprocessing."
   ]
  },
  {
   "cell_type": "code",
   "execution_count": 2,
   "metadata": {},
   "outputs": [],
   "source": [
    "from nltk.tokenize import word_tokenize\n",
    "from nltk.corpus import stopwords\n",
    "from nltk.stem import WordNetLemmatizer\n",
    "from nltk.tag import pos_tag\n",
    "from nltk.probability import FreqDist"
   ]
  },
  {
   "cell_type": "markdown",
   "metadata": {},
   "source": [
    "## Data\n",
    "There are 9 files in the 'data' directory.  \n",
    "Each file represents a document and has around 30 words.  \n",
    "There are 3 documents with the topic chemistry, 3 astronomy, 3 artificial intelligence. \n",
    "  \n",
    "Read the files, tokenize the input strings with NLTK and add them to the 'collection' list.  \n",
    "The list 'collection' will contain all documents. A 'document' is a list of strings that represent the words."
   ]
  },
  {
   "cell_type": "code",
   "execution_count": 3,
   "metadata": {},
   "outputs": [],
   "source": [
    "collection = []\n",
    "file_list = glob.glob(os.path.join(os.getcwd(), 'data', '*.txt'))\n",
    "for file_path in file_list:\n",
    "    with open(file_path) as f:\n",
    "        document = f.read()\n",
    "        document = word_tokenize(document)\n",
    "        collection.append(document)"
   ]
  },
  {
   "cell_type": "markdown",
   "metadata": {},
   "source": [
    "Print the first document to see how it looks."
   ]
  },
  {
   "cell_type": "code",
   "execution_count": 4,
   "metadata": {},
   "outputs": [
    {
     "data": {
      "text/plain": [
       "['Oxygen',\n",
       " 'is',\n",
       " 'a',\n",
       " 'chemical',\n",
       " 'element',\n",
       " 'with',\n",
       " '8',\n",
       " 'protons',\n",
       " 'and',\n",
       " '8',\n",
       " 'neutrons',\n",
       " 'in',\n",
       " 'the',\n",
       " 'nucleus',\n",
       " '.',\n",
       " 'Oxygen',\n",
       " 'has',\n",
       " '8',\n",
       " 'electrons',\n",
       " 'outside',\n",
       " 'the',\n",
       " 'nucleus',\n",
       " '.',\n",
       " 'Oxygen',\n",
       " 'has',\n",
       " 'more',\n",
       " 'electrons',\n",
       " 'than',\n",
       " 'hydrogen',\n",
       " '.',\n",
       " 'Oxygen',\n",
       " 'can',\n",
       " 'form',\n",
       " 'water',\n",
       " 'with',\n",
       " 'hydrogen',\n",
       " '.']"
      ]
     },
     "execution_count": 4,
     "metadata": {},
     "output_type": "execute_result"
    }
   ],
   "source": [
    "collection[0]"
   ]
  },
  {
   "cell_type": "markdown",
   "metadata": {},
   "source": [
    "## Preprocessing\n",
    "\n",
    "To get rid of irrelevant input, I use the following preprocessing techniques:\n",
    "- remove non-alpha (numbers and punctuation)\n",
    "- make words lowercase\n",
    "- remove stop words\n",
    "- lemmatization\n",
    "- keep only relevant parts of speech\n",
    "  \n",
    "To see which parts of speech to keep, print the words from the first document and their type."
   ]
  },
  {
   "cell_type": "code",
   "execution_count": 5,
   "metadata": {},
   "outputs": [
    {
     "data": {
      "text/plain": [
       "[('Oxygen', 'NN'),\n",
       " ('is', 'VBZ'),\n",
       " ('a', 'DT'),\n",
       " ('chemical', 'JJ'),\n",
       " ('element', 'NN'),\n",
       " ('with', 'IN'),\n",
       " ('8', 'CD'),\n",
       " ('protons', 'NNS'),\n",
       " ('and', 'CC'),\n",
       " ('8', 'CD'),\n",
       " ('neutrons', 'NNS'),\n",
       " ('in', 'IN'),\n",
       " ('the', 'DT'),\n",
       " ('nucleus', 'NN'),\n",
       " ('.', '.'),\n",
       " ('Oxygen', 'NNP'),\n",
       " ('has', 'VBZ'),\n",
       " ('8', 'CD'),\n",
       " ('electrons', 'NNS'),\n",
       " ('outside', 'IN'),\n",
       " ('the', 'DT'),\n",
       " ('nucleus', 'NN'),\n",
       " ('.', '.'),\n",
       " ('Oxygen', 'NN'),\n",
       " ('has', 'VBZ'),\n",
       " ('more', 'JJR'),\n",
       " ('electrons', 'NNS'),\n",
       " ('than', 'IN'),\n",
       " ('hydrogen', 'NN'),\n",
       " ('.', '.'),\n",
       " ('Oxygen', 'NN'),\n",
       " ('can', 'MD'),\n",
       " ('form', 'VB'),\n",
       " ('water', 'NN'),\n",
       " ('with', 'IN'),\n",
       " ('hydrogen', 'NN'),\n",
       " ('.', '.')]"
      ]
     },
     "execution_count": 5,
     "metadata": {},
     "output_type": "execute_result"
    }
   ],
   "source": [
    "pos_tag(collection[0])"
   ]
  },
  {
   "cell_type": "markdown",
   "metadata": {},
   "source": [
    "Nouns (NN), adjectives (JJ) and gerund verbs (VBG) seem to be the most relevant. The other parts of speech will be removed.  \n",
    "\n",
    "Prepare the changes by also creating a stop word list and a lemmatizer."
   ]
  },
  {
   "cell_type": "code",
   "execution_count": 6,
   "metadata": {},
   "outputs": [],
   "source": [
    "part_of_speech = ['NN', 'NNS', 'JJ', 'VBG']\n",
    "stop_words = stopwords.words('english')\n",
    "lemma = WordNetLemmatizer()"
   ]
  },
  {
   "cell_type": "markdown",
   "metadata": {},
   "source": [
    "Now do the preprocessing for all documents."
   ]
  },
  {
   "cell_type": "code",
   "execution_count": 7,
   "metadata": {},
   "outputs": [],
   "source": [
    "for document in collection:\n",
    "    document[:] = [word for word in document if word.isalpha()]\n",
    "    document[:] = [word.lower() for word in document]\n",
    "    document[:] = [word for word in document if word not in stop_words]\n",
    "    document[:] = [lemma.lemmatize(word) for word in document]\n",
    "    document[:] = pos_tag(document)\n",
    "    document[:] = [word[0] for word in document if word[1] in part_of_speech]"
   ]
  },
  {
   "cell_type": "markdown",
   "metadata": {},
   "source": [
    "Print the first document to see how it looks after the preprocessing."
   ]
  },
  {
   "cell_type": "code",
   "execution_count": 8,
   "metadata": {},
   "outputs": [
    {
     "data": {
      "text/plain": [
       "['oxygen',\n",
       " 'chemical',\n",
       " 'element',\n",
       " 'proton',\n",
       " 'neutron',\n",
       " 'nucleus',\n",
       " 'oxygen',\n",
       " 'electron',\n",
       " 'nucleus',\n",
       " 'oxygen',\n",
       " 'electron',\n",
       " 'hydrogen',\n",
       " 'oxygen',\n",
       " 'form',\n",
       " 'water',\n",
       " 'hydrogen']"
      ]
     },
     "execution_count": 8,
     "metadata": {},
     "output_type": "execute_result"
    }
   ],
   "source": [
    "collection[0]"
   ]
  },
  {
   "cell_type": "markdown",
   "metadata": {},
   "source": [
    "Let's see what are the first 25 most common words in the collection and how many times they appear."
   ]
  },
  {
   "cell_type": "code",
   "execution_count": 9,
   "metadata": {},
   "outputs": [
    {
     "data": {
      "text/plain": [
       "[('planet', 9),\n",
       " ('intelligence', 9),\n",
       " ('oxygen', 8),\n",
       " ('hydrogen', 8),\n",
       " ('artificial', 7),\n",
       " ('learning', 6),\n",
       " ('electron', 5),\n",
       " ('sun', 5),\n",
       " ('earth', 5),\n",
       " ('moon', 5),\n",
       " ('machine', 5),\n",
       " ('algorithm', 5),\n",
       " ('nucleus', 4),\n",
       " ('water', 4),\n",
       " ('solar', 4),\n",
       " ('system', 4),\n",
       " ('chemical', 3),\n",
       " ('element', 3),\n",
       " ('proton', 3),\n",
       " ('neutron', 3),\n",
       " ('mercury', 3),\n",
       " ('venus', 3),\n",
       " ('human', 3),\n",
       " ('reasoning', 3),\n",
       " ('problem', 3)]"
      ]
     },
     "execution_count": 9,
     "metadata": {},
     "output_type": "execute_result"
    }
   ],
   "source": [
    "fdist = FreqDist([word for document in collection for word in document])\n",
    "most_common_words = fdist.most_common(25)\n",
    "most_common_words"
   ]
  },
  {
   "cell_type": "markdown",
   "metadata": {},
   "source": [
    "The less frequent words are removed from the documents."
   ]
  },
  {
   "cell_type": "code",
   "execution_count": 10,
   "metadata": {},
   "outputs": [],
   "source": [
    "most_common_words = [word[0] for word in most_common_words]\n",
    "\n",
    "for document in collection:\n",
    "    document[:] = [word for word in document if word in most_common_words]"
   ]
  },
  {
   "cell_type": "markdown",
   "metadata": {},
   "source": [
    "Now that the preprocessing is completely done, create a vocabulary of the remaining words.  \n",
    "Each word will have an ID assigned to it."
   ]
  },
  {
   "cell_type": "code",
   "execution_count": 11,
   "metadata": {},
   "outputs": [],
   "source": [
    "vocabulary = {}\n",
    "id = 0\n",
    "for document in collection:\n",
    "    for word in document:\n",
    "        if (word not in vocabulary):\n",
    "            vocabulary[word] = id\n",
    "            id += 1"
   ]
  },
  {
   "cell_type": "markdown",
   "metadata": {},
   "source": [
    "Replace the words in documents with their ID to prepare them for the LDA algorithm."
   ]
  },
  {
   "cell_type": "code",
   "execution_count": 12,
   "metadata": {},
   "outputs": [],
   "source": [
    "for document in collection:\n",
    "    document[:] = [vocabulary.get(word) for word in document]"
   ]
  },
  {
   "cell_type": "markdown",
   "metadata": {},
   "source": [
    "Print the first document to see the word IDs."
   ]
  },
  {
   "cell_type": "code",
   "execution_count": 13,
   "metadata": {},
   "outputs": [
    {
     "data": {
      "text/plain": [
       "[0, 1, 2, 3, 4, 5, 0, 6, 5, 0, 6, 7, 0, 8, 7]"
      ]
     },
     "execution_count": 13,
     "metadata": {},
     "output_type": "execute_result"
    }
   ],
   "source": [
    "collection[0]"
   ]
  },
  {
   "cell_type": "markdown",
   "metadata": {},
   "source": [
    "## Latent Dirichlet Allocation "
   ]
  },
  {
   "cell_type": "markdown",
   "metadata": {},
   "source": [
    "Manually set the number of topics K to 3."
   ]
  },
  {
   "cell_type": "code",
   "execution_count": 14,
   "metadata": {},
   "outputs": [
    {
     "data": {
      "text/plain": [
       "(25, 9)"
      ]
     },
     "execution_count": 14,
     "metadata": {},
     "output_type": "execute_result"
    }
   ],
   "source": [
    "import numpy as np\n",
    "import pymc as pm\n",
    "\n",
    "collection = np.array(collection)\n",
    "\n",
    "K = 3\n",
    "V = len(vocabulary)\n",
    "D = len(collection)\n",
    "\n",
    "V, D"
   ]
  },
  {
   "cell_type": "markdown",
   "metadata": {},
   "source": [
    "Set hyperparameters alpha and beta.  \n",
    "After experimenting with multiple numbers, 0.5 and 1 seem to give the best results for my data.  \n",
    "I also tried lowering beta to 0.5 but the results became too chaotic."
   ]
  },
  {
   "cell_type": "code",
   "execution_count": 15,
   "metadata": {},
   "outputs": [
    {
     "data": {
      "text/plain": [
       "(array([0.5, 0.5, 0.5]),\n",
       " array([1, 1, 1, 1, 1, 1, 1, 1, 1, 1, 1, 1, 1, 1, 1, 1, 1, 1, 1, 1, 1, 1,\n",
       "        1, 1, 1]))"
      ]
     },
     "execution_count": 15,
     "metadata": {},
     "output_type": "execute_result"
    }
   ],
   "source": [
    "alpha = np.full(K, 0.5)\n",
    "beta = np.full(V, 1)\n",
    "alpha, beta"
   ]
  },
  {
   "cell_type": "markdown",
   "metadata": {},
   "source": [
    "$\\varphi_k \\sim Dir(\\beta), 1 \\leq k \\leq K$"
   ]
  },
  {
   "cell_type": "code",
   "execution_count": 16,
   "metadata": {},
   "outputs": [],
   "source": [
    "phi_incomplete = pm.Container([\n",
    "    pm.Dirichlet(\n",
    "        name = 'phi_i_%i' % topic,\n",
    "        theta = beta)\n",
    "    for topic in range(K)])\n",
    "\n",
    "phi = pm.Container([\n",
    "    pm.CompletedDirichlet(\n",
    "        name = 'phi_%i' % topic,\n",
    "        D = phi_incomplete[topic])\n",
    "    for topic in range(K)])"
   ]
  },
  {
   "cell_type": "markdown",
   "metadata": {},
   "source": [
    "$\\theta_m \\sim Dir(\\alpha), 1 \\leq m \\leq M$"
   ]
  },
  {
   "cell_type": "code",
   "execution_count": 17,
   "metadata": {},
   "outputs": [],
   "source": [
    "theta_incomplete = pm.Container([\n",
    "    pm.Dirichlet(\n",
    "        name = 'theta_i_%i' % document, \n",
    "        theta = alpha) \n",
    "    for document in range(D)])\n",
    "\n",
    "theta = pm.Container([\n",
    "    pm.CompletedDirichlet(\n",
    "        name = 'theta_%i' % document, \n",
    "        D = theta_incomplete[document]) \n",
    "    for document in range(D)])"
   ]
  },
  {
   "cell_type": "markdown",
   "metadata": {},
   "source": [
    "$z_{m,n} \\sim Multinomial(\\theta_m), 1 \\leq m \\leq M, 1 \\leq n \\leq N_m$"
   ]
  },
  {
   "cell_type": "code",
   "execution_count": 18,
   "metadata": {},
   "outputs": [],
   "source": [
    "word_count = [len(document) for document in collection]\n",
    "\n",
    "z = pm.Container([\n",
    "     pm.Categorical(\n",
    "         name = 'z_%i' % document,\n",
    "         p = theta[document],\n",
    "         size = word_count[document],\n",
    "         value = np.random.randint(K, size=word_count[document]))\n",
    "     for document in range(D)])"
   ]
  },
  {
   "cell_type": "markdown",
   "metadata": {},
   "source": [
    "$w_{m,n} \\sim Multinomial(\\varphi_{z_{m,n}}), 1 \\leq m \\leq M, 1 \\leq n \\leq N_m$"
   ]
  },
  {
   "cell_type": "code",
   "execution_count": 19,
   "metadata": {},
   "outputs": [],
   "source": [
    "w = pm.Container([\n",
    "     pm.Categorical(\n",
    "         name = 'w_%i_%i' % (document, word),\n",
    "         p = pm.Lambda(\n",
    "             name = 'phi_z_%i_%i' % (document, word),\n",
    "             lam_fun = lambda index=z[document][word], phi=phi: phi[index]),\n",
    "         value = collection[document][word],\n",
    "         observed = True)\n",
    "     for document in range(D) for word in range(word_count[document])])"
   ]
  },
  {
   "cell_type": "code",
   "execution_count": 20,
   "metadata": {},
   "outputs": [
    {
     "name": "stdout",
     "output_type": "stream",
     "text": [
      " [-----------------100%-----------------] 40000 of 40000 complete in 213.8 sec"
     ]
    }
   ],
   "source": [
    "mcmc = pm.MCMC([phi_incomplete, phi, theta_incomplete, theta, z, w])\n",
    "mcmc.sample(40000, 10000)"
   ]
  },
  {
   "cell_type": "markdown",
   "metadata": {},
   "source": [
    "## Results  \n",
    "  \n",
    "  \n",
    "Print the topic distribution for each document."
   ]
  },
  {
   "cell_type": "code",
   "execution_count": 21,
   "metadata": {},
   "outputs": [
    {
     "name": "stdout",
     "output_type": "stream",
     "text": [
      "Document 0: [0.9916 0.0017 0.0067]\n",
      "Document 1: [0.979  0.0037 0.0173]\n",
      "Document 2: [0.8658 0.1189 0.0153]\n",
      "Document 3: [0.0428 0.9378 0.0194]\n",
      "Document 4: [0.0067 0.9786 0.0147]\n",
      "Document 5: [0.0031 0.9739 0.023 ]\n",
      "Document 6: [0.0009 0.0585 0.9406]\n",
      "Document 7: [0.0101 0.0233 0.9666]\n",
      "Document 8: [0.0204 0.0139 0.9657]\n"
     ]
    }
   ],
   "source": [
    "np.set_printoptions(precision=4, suppress=True)\n",
    "\n",
    "for document in range(D):\n",
    "    print('Document %i:' % document, mcmc.trace('theta_%i'%document)[-101:-1].mean(axis=0)[0]) "
   ]
  },
  {
   "cell_type": "markdown",
   "metadata": {},
   "source": [
    "Plot the topic distribution for each document."
   ]
  },
  {
   "cell_type": "code",
   "execution_count": 22,
   "metadata": {
    "scrolled": false
   },
   "outputs": [
    {
     "data": {
      "image/png": "[encoded data removed]",
      "text/plain": [
       "<Figure size 432x288 with 1 Axes>"
      ]
     },
     "metadata": {
      "needs_background": "light"
     },
     "output_type": "display_data"
    },
    {
     "data": {
      "image/png": "[encoded data removed]",
      "text/plain": [
       "<Figure size 432x288 with 1 Axes>"
      ]
     },
     "metadata": {
      "needs_background": "light"
     },
     "output_type": "display_data"
    },
    {
     "data": {
      "image/png": "[encoded data removed]",
      "text/plain": [
       "<Figure size 432x288 with 1 Axes>"
      ]
     },
     "metadata": {
      "needs_background": "light"
     },
     "output_type": "display_data"
    },
    {
     "data": {
      "image/png": "[encoded data removed]",
      "text/plain": [
       "<Figure size 432x288 with 1 Axes>"
      ]
     },
     "metadata": {
      "needs_background": "light"
     },
     "output_type": "display_data"
    },
    {
     "data": {
      "image/png": "[encoded data removed]",
      "text/plain": [
       "<Figure size 432x288 with 1 Axes>"
      ]
     },
     "metadata": {
      "needs_background": "light"
     },
     "output_type": "display_data"
    },
    {
     "data": {
      "image/png": "[encoded data removed]",
      "text/plain": [
       "<Figure size 432x288 with 1 Axes>"
      ]
     },
     "metadata": {
      "needs_background": "light"
     },
     "output_type": "display_data"
    },
    {
     "data": {
      "image/png": "[encoded data removed]",
      "text/plain": [
       "<Figure size 432x288 with 1 Axes>"
      ]
     },
     "metadata": {
      "needs_background": "light"
     },
     "output_type": "display_data"
    },
    {
     "data": {
      "image/png": "[encoded data removed]",
      "text/plain": [
       "<Figure size 432x288 with 1 Axes>"
      ]
     },
     "metadata": {
      "needs_background": "light"
     },
     "output_type": "display_data"
    },
    {
     "data": {
      "image/png": "[encoded data removed]",
      "text/plain": [
       "<Figure size 432x288 with 1 Axes>"
      ]
     },
     "metadata": {
      "needs_background": "light"
     },
     "output_type": "display_data"
    }
   ],
   "source": [
    "%matplotlib inline\n",
    "import matplotlib.pyplot as plt\n",
    "\n",
    "for document in range(D):\n",
    "    topic = ['Topic %i'%topic for topic in range(K)]\n",
    "    probability = mcmc.trace('theta_%i'%document)[-101:-1].mean(axis=0)[0]\n",
    "    \n",
    "    fig, ax = plt.subplots()\n",
    "    ax.bar(topic, probability)\n",
    "    ax.set_title('Document %i' % document)\n",
    "    plt.ylim(0, 1)\n",
    "    plt.show()"
   ]
  },
  {
   "cell_type": "markdown",
   "metadata": {},
   "source": [
    "Print the top 5 words of each topic."
   ]
  },
  {
   "cell_type": "code",
   "execution_count": 23,
   "metadata": {},
   "outputs": [
    {
     "name": "stdout",
     "output_type": "stream",
     "text": [
      "Topic 0:\n",
      "\t hydrogen : 0.1707\n",
      "\t oxygen : 0.1454\n",
      "\t electron : 0.1376\n",
      "\t water : 0.1060\n",
      "\t nucleus : 0.0548\n",
      "Topic 1:\n",
      "\t planet : 0.1944\n",
      "\t earth : 0.1371\n",
      "\t moon : 0.1171\n",
      "\t system : 0.0748\n",
      "\t solar : 0.0695\n",
      "Topic 2:\n",
      "\t artificial : 0.1707\n",
      "\t algorithm : 0.1480\n",
      "\t intelligence : 0.1418\n",
      "\t learning : 0.1292\n",
      "\t reasoning : 0.0589\n"
     ]
    }
   ],
   "source": [
    "from operator import itemgetter\n",
    "\n",
    "inverted_vocabulary = {value: word for word, value in vocabulary.items()}\n",
    "\n",
    "for topic in range(K):\n",
    "    probability = []\n",
    "    for i, j in enumerate(mcmc.trace('phi_%i'%topic)[-101:-1].mean(axis=0)[0]):\n",
    "        probability.append((inverted_vocabulary[i], j))\n",
    "    probability.sort(key=itemgetter(1), reverse=True)\n",
    "    \n",
    "    print('Topic %i:' % topic)\n",
    "    for i in range(5):\n",
    "        print('\\t', probability[i][0], ':', '%.4f' % probability[i][1])"
   ]
  },
  {
   "cell_type": "markdown",
   "metadata": {},
   "source": [
    "Plot the word distribution for each topic."
   ]
  },
  {
   "cell_type": "code",
   "execution_count": 24,
   "metadata": {},
   "outputs": [
    {
     "data": {
      "image/png": "[encoded data removed]",
      "text/plain": [
       "<Figure size 432x288 with 1 Axes>"
      ]
     },
     "metadata": {
      "needs_background": "light"
     },
     "output_type": "display_data"
    },
    {
     "data": {
      "image/png": "[encoded data removed]",
      "text/plain": [
       "<Figure size 432x288 with 1 Axes>"
      ]
     },
     "metadata": {
      "needs_background": "light"
     },
     "output_type": "display_data"
    },
    {
     "data": {
      "image/png": "[encoded data removed]",
      "text/plain": [
       "<Figure size 432x288 with 1 Axes>"
      ]
     },
     "metadata": {
      "needs_background": "light"
     },
     "output_type": "display_data"
    }
   ],
   "source": [
    "for topic in range(K):\n",
    "    word_probability = []\n",
    "    for i, j in enumerate(mcmc.trace('phi_%i'%topic)[-101:-1].mean(axis=0)[0]):\n",
    "        word_probability.append((inverted_vocabulary[i], j))\n",
    "        \n",
    "    word = [word[:][0] for word in word_probability]\n",
    "    probability = [probability[:][1] for probability in word_probability]\n",
    "    \n",
    "    fig, ax = plt.subplots()\n",
    "    ax.bar(word, probability)\n",
    "    ax.set_title(\"Topic %i\" % topic)\n",
    "    plt.xticks(rotation=90)\n",
    "    plt.ylim(0, 1)\n",
    "    plt.show()"
   ]
  },
  {
   "cell_type": "markdown",
   "metadata": {},
   "source": [
    "## Can the topic model be used to define a topic-based similarity measure between documents?"
   ]
  },
  {
   "cell_type": "markdown",
   "metadata": {},
   "source": [
    "Yes. The similarity between documents can be calculated by comparing their distributions with Kullback-Leibler or Jensen-Shannon divergence."
   ]
  },
  {
   "cell_type": "markdown",
   "metadata": {},
   "source": [
    "For example, let's see how similar are documents 0 and 1. Their Jensen-Shannon score should be low because they both contain words from the same topic (chemistry)."
   ]
  },
  {
   "cell_type": "code",
   "execution_count": 25,
   "metadata": {},
   "outputs": [
    {
     "name": "stdout",
     "output_type": "stream",
     "text": [
      "0.0375\n"
     ]
    }
   ],
   "source": [
    "from scipy.spatial import distance\n",
    "\n",
    "theta_0 = mcmc.trace('theta_0')[-101:-1].mean(axis=0)[0]\n",
    "theta_1 = mcmc.trace('theta_1')[-101:-1].mean(axis=0)[0]\n",
    "\n",
    "print('%.4f' % distance.jensenshannon(theta_0, theta_1))"
   ]
  },
  {
   "cell_type": "markdown",
   "metadata": {},
   "source": [
    "Now let's compare document 0 (which is about chemistry) to document 8 (artificial intelligence)."
   ]
  },
  {
   "cell_type": "code",
   "execution_count": 26,
   "metadata": {},
   "outputs": [
    {
     "name": "stdout",
     "output_type": "stream",
     "text": [
      "0.7877\n"
     ]
    }
   ],
   "source": [
    "theta_8 = mcmc.trace('theta_8')[-101:-1].mean(axis=0)[0]\n",
    "\n",
    "print('%.4f' % distance.jensenshannon(theta_0, theta_8))"
   ]
  },
  {
   "cell_type": "markdown",
   "metadata": {},
   "source": [
    "We can see that similar documents have low values, while non-related documents have high values."
   ]
  },
  {
   "cell_type": "markdown",
   "metadata": {},
   "source": [
    "## What about a new document? How can topics be assigned to it?"
   ]
  },
  {
   "cell_type": "markdown",
   "metadata": {},
   "source": [
    "A new document can be created by randomly giving it words from the word distribution of a topic.  \n",
    "  \n",
    "Let's create a new document with 50 words from the first topic."
   ]
  },
  {
   "cell_type": "code",
   "execution_count": 27,
   "metadata": {},
   "outputs": [
    {
     "data": {
      "text/plain": [
       "'planet electron element nucleus hydrogen hydrogen artificial sun learning system artificial water human intelligence oxygen venus water learning reasoning neutron electron hydrogen element mercury water artificial oxygen electron solar planet learning solar earth human element water problem artificial machine electron proton oxygen solar sun system artificial water artificial problem proton'"
      ]
     },
     "execution_count": 27,
     "metadata": {},
     "output_type": "execute_result"
    }
   ],
   "source": [
    "word_probability = []\n",
    "for i, j in enumerate(mcmc.trace('phi_0')[-101:-1].mean(axis=0)[0]):\n",
    "    word_probability.append((inverted_vocabulary[i], j))\n",
    "    \n",
    "word = [word[:][0] for word in word_probability]\n",
    "probability = [word[:][1] for word in word_probability]\n",
    "\n",
    "new_document = np.random.choice(word, 50, probability)\n",
    "new_document = ' '.join([str(word) for word in new_document])\n",
    "new_document"
   ]
  }
 ],
 "metadata": {
  "kernelspec": {
   "display_name": "Python 3",
   "language": "python",
   "name": "python3"
  },
  "language_info": {
   "codemirror_mode": {
    "name": "ipython",
    "version": 3
   },
   "file_extension": ".py",
   "mimetype": "text/x-python",
   "name": "python",
   "nbconvert_exporter": "python",
   "pygments_lexer": "ipython3",
   "version": "3.7.1"
  }
 },
 "nbformat": 4,
 "nbformat_minor": 4
}
